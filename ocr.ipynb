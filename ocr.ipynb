{
 "cells": [
  {
   "cell_type": "code",
   "execution_count": 12,
   "metadata": {},
   "outputs": [],
   "source": [
    "import fitz  # PyMuPDF\n",
    "import pytesseract\n",
    "from PIL import Image,UnidentifiedImageError\n",
    "import io\n",
    "import os\n",
    "from tqdm import tqdm\n",
    "from pdf2image import convert_from_path\n",
    "import pytesseract\n",
    "from dask import delayed, compute\n",
    "import dask"
   ]
  },
  {
   "cell_type": "code",
   "execution_count": 14,
   "metadata": {},
   "outputs": [],
   "source": [
    "def extract_text_with_ocr_alternative(pdf_path):\n",
    "    all_text = ''\n",
    "    try:\n",
    "        pages = convert_from_path(pdf_path, 150)  # Convert PDF to list of images\n",
    "        for page in pages:\n",
    "            try:\n",
    "                text = pytesseract.image_to_string(page)\n",
    "                all_text += text\n",
    "            except Exception as e:\n",
    "                print(f\"Error during OCR processing: {e}\")\n",
    "    except Exception as e:\n",
    "        print(f\"Error converting PDF to images: {e}\")\n",
    "    return all_text\n"
   ]
  },
  {
   "cell_type": "code",
   "execution_count": 18,
   "metadata": {},
   "outputs": [],
   "source": [
    "def convert_pdf_to_text(pdf_path):\n",
    "    doc = fitz.open(pdf_path)\n",
    "    text = ''\n",
    "    \n",
    "    for page in doc:\n",
    "        text += page.get_text()   \n",
    "    doc.close()\n",
    "    \n",
    "    return text\n"
   ]
  },
  {
   "cell_type": "code",
   "execution_count": 26,
   "metadata": {},
   "outputs": [],
   "source": [
    "def is_scanned_pdf_with_fitz(pdf_path):\n",
    "    try:\n",
    "        doc = fitz.open(pdf_path)\n",
    "        num_pages = len(doc)\n",
    "\n",
    "        has_text = False\n",
    "        total_chars = 0\n",
    "        for page_num in range(num_pages):\n",
    "            page_text = doc[page_num].get_text()\n",
    "            char_count = len(page_text)\n",
    "            if char_count > 0:  # If there's text on the page\n",
    "                has_text = True\n",
    "                total_chars += char_count\n",
    "\n",
    "        if num_pages > 0:\n",
    "            avg_chars_per_page = total_chars / num_pages\n",
    "        else:\n",
    "            avg_chars_per_page = 0\n",
    "\n",
    "        doc.close()  # Ensure the document is closed in the try block\n",
    "\n",
    "        return not has_text or avg_chars_per_page < 100\n",
    "    except Exception as e:\n",
    "        print(f\"An error occurred with {pdf_path}: {e}\")\n",
    "        return None "
   ]
  },
  {
   "cell_type": "code",
   "execution_count": 28,
   "metadata": {},
   "outputs": [
    {
     "data": {
      "application/vnd.jupyter.widget-view+json": {
       "model_id": "c61a3060dcbd4783bd1bbbad52352500",
       "version_major": 2,
       "version_minor": 0
      },
      "text/plain": [
       "  0%|          | 0/1898 [00:00<?, ?it/s]"
      ]
     },
     "metadata": {},
     "output_type": "display_data"
    },
    {
     "name": "stdout",
     "output_type": "stream",
     "text": [
      "An error occurred with ./files/52001312100220160024100 Los Andes 3 mayo 2022.pdf: Cannot open empty file: filename='./files/52001312100220160024100 Los Andes 3 mayo 2022.pdf'.\n",
      "An error occurred with ./files/52001312100220160005300 Pasto 30 junio 2022.pdf: Cannot open empty file: filename='./files/52001312100220160005300 Pasto 30 junio 2022.pdf'.\n",
      "An error occurred with ./files/52001312100120180011400 El Tambo 8 junio 2022.pdf: Cannot open empty file: filename='./files/52001312100120180011400 El Tambo 8 junio 2022.pdf'.\n",
      "An error occurred with ./files/52001312100120180002800 Ipiales 9 mayo 2022.pdf: Cannot open empty file: filename='./files/52001312100120180002800 Ipiales 9 mayo 2022.pdf'.\n",
      "An error occurred with ./files/47001312100220180005501 Tenerife 11 julio 2022.pdf: Cannot open empty file: filename='./files/47001312100220180005501 Tenerife 11 julio 2022.pdf'.\n",
      "An error occurred with ./files/52001312100120210001000 El Tablon de Gomez 1 junio 2022.pdf: Cannot open empty file: filename='./files/52001312100120210001000 El Tablon de Gomez 1 junio 2022.pdf'.\n",
      "An error occurred with ./files/50001312100120210003600 Mapiripan 31 mayo 2022.pdf: Cannot open empty file: filename='./files/50001312100120210003600 Mapiripan 31 mayo 2022.pdf'.\n",
      "An error occurred with ./files/52001312100120190009700 Los Andes 17 junio 2022.pdf: Cannot open empty file: filename='./files/52001312100120190009700 Los Andes 17 junio 2022.pdf'.\n",
      "An error occurred with ./files/52001312100320180011000 El Tablon de Gomez 4 mayo 2022.pdf: Cannot open empty file: filename='./files/52001312100320180011000 El Tablon de Gomez 4 mayo 2022.pdf'.\n",
      "Scanned PDFs: 512\n",
      "Text PDFs: 1375\n",
      "Files with errors: 9\n"
     ]
    }
   ],
   "source": [
    "def count_pdf_types(folder_path):\n",
    "    scanned_count, text_count, error_count = 0, 0, 0\n",
    "\n",
    "    for filename in tqdm(os.listdir(folder_path)):\n",
    "        if filename.endswith(\".pdf\"):\n",
    "            pdf_path = os.path.join(folder_path, filename)\n",
    "            result = is_scanned_pdf_with_fitz(pdf_path)\n",
    "            if result is True:\n",
    "                scanned_count += 1\n",
    "            elif result is False:\n",
    "                text_count += 1\n",
    "            else:\n",
    "                error_count += 1\n",
    "\n",
    "    return scanned_count, text_count, error_count\n",
    "\n",
    "# Example usage\n",
    "folder_path = './files'  # Update with the path to your folder\n",
    "scanned_count, text_count, error_count = count_pdf_types(folder_path)\n",
    "print(f\"Scanned PDFs: {scanned_count}\")\n",
    "print(f\"Text PDFs: {text_count}\")\n",
    "print(f\"Files with errors: {error_count}\")"
   ]
  },
  {
   "cell_type": "code",
   "execution_count": 23,
   "metadata": {},
   "outputs": [],
   "source": [
    "import os\n",
    "from tqdm.auto import tqdm  # Assuming you're using tqdm for progress indication\n",
    "\n",
    "# Assuming is_scanned_pdf_with_fitz and convert_pdf_to_text are already defined\n",
    "\n",
    "def process_pdf_folder(source_folder, target_folder):\n",
    "    if not os.path.exists(target_folder):\n",
    "        os.makedirs(target_folder)\n",
    "\n",
    "    num_skipped = 0\n",
    "\n",
    "    for filename in tqdm(os.listdir(source_folder)):\n",
    "        if filename.endswith(\".pdf\"):\n",
    "            pdf_path = os.path.join(source_folder, filename)\n",
    "            text_file_path = os.path.join(target_folder, filename.replace(\".pdf\", \".txt\"))\n",
    "\n",
    "            try:\n",
    "                # Determine if the PDF is scanned\n",
    "                if is_scanned_pdf_with_fitz(pdf_path):\n",
    "                    print(f\"Processing {filename} with OCR...\")\n",
    "                    extracted_text = extract_text_with_ocr_alternative(pdf_path)\n",
    "                else:\n",
    "                    print(f\"Processing {filename} by extracting text...\")\n",
    "                    extracted_text = convert_pdf_to_text(pdf_path)\n",
    "\n",
    "                # Save the extracted text to a new text file\n",
    "                if extracted_text:\n",
    "                    with open(text_file_path, 'w', encoding='utf-8') as text_file:\n",
    "                        text_file.write(extracted_text)\n",
    "                    print(f\"Saved extracted text to {text_file_path}\")\n",
    "                else:\n",
    "                    print(f\"No text extracted from {filename}.\")\n",
    "                    num_skipped += 1\n",
    "            except Exception as e:\n",
    "                print(f\"Error processing file {filename}: {e}\")\n",
    "                num_skipped += 1\n",
    "\n",
    "    return num_skipped\n"
   ]
  },
  {
   "cell_type": "code",
   "execution_count": null,
   "metadata": {},
   "outputs": [],
   "source": []
  }
 ],
 "metadata": {
  "kernelspec": {
   "display_name": "base",
   "language": "python",
   "name": "python3"
  },
  "language_info": {
   "codemirror_mode": {
    "name": "ipython",
    "version": 3
   },
   "file_extension": ".py",
   "mimetype": "text/x-python",
   "name": "python",
   "nbconvert_exporter": "python",
   "pygments_lexer": "ipython3",
   "version": "3.11.4"
  }
 },
 "nbformat": 4,
 "nbformat_minor": 2
}
